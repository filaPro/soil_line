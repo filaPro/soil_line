{
 "cells": [
  {
   "cell_type": "markdown",
   "metadata": {},
   "source": [
    "* Для работы 1 раз запустить первый и второй блок. Запускать блок можно, нажав на него мышкой, а затем нажав Cell->Run в верхнем меню.\n",
    "* Далее работаем только в блоке 3, стирая символ '#' у необходимых в данный момент строк.\n",
    "* В файле 1.json каходятся настройки программы. Обязательно поменять значение ключа 'path', на путь к папке landsat. Изменение остальных настроек опционально."
   ]
  },
  {
   "cell_type": "code",
   "execution_count": 1,
   "metadata": {
    "collapsed": false
   },
   "outputs": [],
   "source": [
    "%load_ext Cython"
   ]
  },
  {
   "cell_type": "code",
   "execution_count": 154,
   "metadata": {
    "collapsed": false
   },
   "outputs": [],
   "source": [
    "%%cython\n",
    "import os\n",
    "import simplejson\n",
    "import numpy as np\n",
    "cimport numpy as np\n",
    "cimport cython\n",
    "import skimage.io\n",
    "import matplotlib\n",
    "\n",
    "# class for one scene analyse\n",
    "cdef class Scene:\n",
    "    cdef public int id, bit\n",
    "    cdef object json, path\n",
    "    \n",
    "    def __init__(self, _id_, config_file='2.json'):\n",
    "        self.id = _id_\n",
    "        with open(config_file) as data_file:    \n",
    "            self.json = simplejson.load(data_file)\n",
    "        self.bit = int(self.json['scenes'][self.id]['bit'])\n",
    "        self.path = self.json['scenes'][self.id]['path']\n",
    "    \n",
    "    def read_images(self, path):\n",
    "        return {'red': skimage.io.imread(os.path.join(self.json['path'], self.json['paths'][path], 'red',\n",
    "                                                     self.path +  self.json['suffs'][path])),\n",
    "                'nir': skimage.io.imread(os.path.join(self.json['path'], self.json['paths'][path], 'nir',\n",
    "                                                     self.path +  self.json['suffs'][path]))}\n",
    "    \n",
    "    cdef is_in_mask(self, unsigned short val):\n",
    "        return val < 64000 if self.bit == 16 else val < 253\n",
    "    \n",
    "    def normalize_imgs(self, img_red, img_nir):\n",
    "        arr_n = np.genfromtxt(self.json['docs']['n'])[self.id]\n",
    "        img_red_n = (np.copy(img_red.astype(np.float)) - arr_n[0]) / arr_n[1]\n",
    "        img_nir_n = (np.copy(img_nir.astype(np.float)) - arr_n[2]) / arr_n[3]\n",
    "        img_red_n[img_red <= 0] = -99\n",
    "        img_nir_n[img_red <= 0] = -99\n",
    "        return img_red_n, img_nir_n\n",
    "        \n",
    "    def get_plot_array(self, imgs):\n",
    "        cdef np.ndarray[np.uint16_t, ndim = 2] img_red = imgs['red'].astype('uint16', copy = False)\n",
    "        cdef np.ndarray[np.uint16_t, ndim = 2] img_nir = imgs['nir'].astype('uint16', copy = False)\n",
    "        sizes = self.json['plotSizes'][str(self.bit)]\n",
    "        cdef int sn0 = sizes['nir'][0], sn1 = sizes['nir'][1], sr0 = sizes['red'][0], sr1 = sizes['red'][1]\n",
    "        cdef np.ndarray[np.int32_t, ndim = 2] plot_array = np.zeros([sr1 - sr0 + 1, sn1 - sn0 + 1], dtype = 'int32')\n",
    "        cdef int x, y\n",
    "        for x in range(img_red.shape[1]):\n",
    "            for y in range(img_red.shape[0]):\n",
    "                if self.is_in_mask(img_red[y, x]) and self.is_in_mask(img_nir[y, x]) \\\n",
    "                    and sr0 <= img_red[y, x] <= sr1 and sn0 <= img_nir[y, x] <= sn1:\n",
    "                        plot_array[img_nir[y, x] - sn0, img_red[y, x] - sr0] += 1\n",
    "        return plot_array\n",
    "    \n",
    "    def save_plot_array(self, plot_array):\n",
    "        matplotlib.image.imsave(os.path.join(self.json['path'], self.json['paths']['notMarkedPlots'], \n",
    "                                             self.path + self.json['suffs']['markedPlots']), \n",
    "                                plot_array[::-1, :])\n",
    "    def make_solp_scene(self):\n",
    "        imgs = self.read_images('inFiltered')\n",
    "        cdef np.ndarray[np.uint16_t, ndim = 2] img_red = imgs['red'].astype('uint16', copy = False)\n",
    "        cdef np.ndarray[np.uint16_t, ndim = 2] img_nir = imgs['nir'].astype('uint16', copy = False)\n",
    "        sizes = self.json['plotSizes'][str(self.bit)]\n",
    "        cdef int sn0 = sizes['nir'][0], sn1 = sizes['nir'][1], sr0 = sizes['red'][0], sr1 = sizes['red'][1]\n",
    "        cdef np.ndarray[np.uint8_t, ndim = 3] plot_marked = skimage.io.imread(\n",
    "            os.path.join(self.json['path'], self.json['paths']['markedPlots'], \n",
    "                         self.path + self.json['suffs']['markedPlots']))\n",
    "        cdef np.ndarray[np.uint8_t, ndim = 2] colors = \\\n",
    "            np.array(self.json['colorsMarkedPlots']).astype('uint8', copy = False)\n",
    "        cdef int x, y, need_white, red, nir, color_eps = 9, color_sum, c, cs\n",
    "        for x in range(img_red.shape[1]):\n",
    "            for y in range(img_red.shape[0]):\n",
    "                red, nir = img_red[y, x], img_nir[y, x]\n",
    "                need_white = 1\n",
    "                if sr0 <= red <= sr1 and sn0 <= nir <= sn1:\n",
    "                    for c in range(colors.shape[0]):\n",
    "                        color_sum = 0\n",
    "                        for cs in range(3):\n",
    "                            color_sum += abs(colors[c, cs] - plot_marked[sn1 - nir - 1, red - sr0, cs]) # TODO -1\n",
    "                        if (color_sum <= color_eps):\n",
    "                            need_white = 0\n",
    "                            break\n",
    "                if need_white == 1:\n",
    "                    img_nir[y, x] = img_red[y, x] = 65535 # if self.bit == 16 else 255\n",
    "        for img in [[img_red, 'red'], [img_nir, 'nir']]:\n",
    "            skimage.io.imsave(os.path.join(self.json['path'], self.json['paths']['solp'], img[1], \n",
    "                                           self.path + self.json['suffs']['solp']), \n",
    "                              img[0].astype('uint' + str(self.bit)), plugin = 'tifffile')\n",
    "    \n",
    "    def get_soil_line(self, imgs):\n",
    "        cdef np.ndarray[np.uint16_t, ndim = 2] img_red = imgs['red'].astype('uint16', copy = False)\n",
    "        cdef np.ndarray[np.uint16_t, ndim = 2] img_nir = imgs['nir'].astype('uint16', copy = False)\n",
    "        cdef np.ndarray[np.uint16_t, ndim = 1] red = np.zeros([img_red.size], dtype = 'uint16')\n",
    "        cdef np.ndarray[np.uint16_t, ndim = 1] nir = np.zeros([img_red.size], dtype = 'uint16')\n",
    "        cdef int x, y, size = 0\n",
    "        for x in range(img_red.shape[1]):\n",
    "            for y in range(img_red.shape[0]):\n",
    "                if self.is_in_mask(img_red[y, x]) and self.is_in_mask(img_nir[y, x]):\n",
    "                    red[size] = img_red[y, x]\n",
    "                    nir[size] = img_nir[y, x]\n",
    "                    size += 1\n",
    "        red = np.resize(red, size)\n",
    "        nir = np.resize(nir, size)\n",
    "        return np.linalg.lstsq(np.vstack([red, np.ones(len(red))]).T, nir)[0]\n",
    "                    \n",
    "    cdef brat_vec(self, np.ndarray[np.uint16_t, ndim = 2] img_red, np.ndarray[np.uint16_t, ndim = 2] img_nir,\n",
    "        int pnt_x, int pnt_y, int rad, float line_a, float line_b):\n",
    "        cdef float res_x = 0, res_y = 0, ave_x = 0, ave_y = 0, ave_subj = 0\n",
    "        cdef int n = 0, x, y\n",
    "        for y in xrange(max(pnt_y - rad, 0), min(pnt_y + rad, img_red.shape[0])):\n",
    "            for x in xrange(max(pnt_x - rad, 0), min(pnt_x + rad, img_red.shape[1])):\n",
    "                if (pnt_x - x) ** 2 + (pnt_y - y) ** 2 <= rad ** 2 \\\n",
    "                    and self.is_in_mask(img_red[y, x]) and self.is_in_mask(img_nir[y, x]):\n",
    "                        n += 1\n",
    "                        subj = float(-line_a) * img_red[y, x] - line_b + img_nir[y, x]\n",
    "                        res_x += x * subj\n",
    "                        res_y += y * subj\n",
    "                        ave_x += x\n",
    "                        ave_y += y\n",
    "                        ave_subj += subj\n",
    "        return {'xx': (res_x - ave_x * ave_subj) / float(n) if n > 0 else -9999,\n",
    "               'yy': (res_y - ave_y * ave_subj) / float(n) if n > 0 else -9999,\n",
    "               'avg': ave_subj / float(n) if n > 0 else -9999,\n",
    "               'n': n}\n",
    "    \n",
    "    def brat_first(self):\n",
    "        json_f1 = self.json['brat_first']\n",
    "        imgs = self.read_images('in') # читать не отсюда\n",
    "        cdef np.ndarray[np.uint16_t, ndim = 2] img_red = imgs['red'].astype('uint16', copy = False)\n",
    "        cdef np.ndarray[np.uint16_t, ndim = 2] img_nir = imgs['nir'].astype('uint16', copy = False)\n",
    "        cdef int rad = json_f1['rad'], x_pts = json_f1['xPts'], y_pts = json_f1['yPts']\n",
    "        cdef int line_a, line_b\n",
    "        line_a, line_b = self.get_soil_line(imgs)\n",
    "        cdef int x_abs, y_abs, i, j, x, y, x_abs_0 = json_f1['xAbs0'], y_abs_0 = json_f1['yAbs0']\n",
    "        cdef int x_abs_step = json_f1['xAbsStep'],  y_abs_step = json_f1['yAbsStep']\n",
    "        cdef int need_comma = 0\n",
    "        \n",
    "        f = open(os.path.join(self.json['path'], self.json['paths']['bratTxt'], self.path + \\\n",
    "                              self.json['suffs']['bratTxt']), 'w')\n",
    "        for i in range(x_pts):\n",
    "            for j in range(y_pts):\n",
    "                x = int(i / (x_pts - 1.0) * img_red.shape[1])\n",
    "                y = int(j / (y_pts - 1.0) * img_red.shape[0])\n",
    "                x_abs = x_abs_0 + x * x_abs_step\n",
    "                y_abs = y_abs_0 + y * y_abs_step\n",
    "                vec = self.brat_vec(img_red, img_nir, x, y, rad, line_a, line_b)\n",
    "                if need_comma:\n",
    "                    f.write(',')\n",
    "                f.write('{{%i,%i},{%i,%i},{%f,%f},%f,%i}\\n' % \n",
    "                        (x, y, x_abs, y_abs, float(vec['xx']), float(vec['yy']), float(vec['avg']), vec['n']))\n",
    "                if not need_comma:\n",
    "                    need_comma = 1\n",
    "        f.write('}')\n",
    "        f.close()\n",
    "        \n",
    "cdef class SceneGroup:\n",
    "    cdef object json\n",
    "    \n",
    "    def __init__(self, config_file='1.json'):\n",
    "        with open(config_file) as data_file:    \n",
    "            self.json = simplejson.load(data_file)\n",
    "    \n",
    "    cdef make_axy_from_all(self, np.ndarray[np.float, ndim=2] imgs):\n",
    "        cdef int i, n \n",
    "        cdef np.ndarray[np.float, ndim=1] reds, nirs\n",
    "        cdef np.ndarray[np.float, ndim=2] axy = np.ones((imgs.shape[0], 3)) * -99\n",
    "        n = imgs.shape[1] / 2\n",
    "        for i in range(imgs.shape[0]):\n",
    "            reds = imgs[i, :n]\n",
    "            reds = reds[reds != -99]\n",
    "            nirs = imgs[i, n:]\n",
    "            nirs = nirs[nirs != -99]\n",
    "            if len(reds) > 5:\n",
    "                axy[i, 0] = np.linalg.lstsq(np.vstack([reds, np.ones(len(reds))]).T, nirs)[0][0]\n",
    "                axy[i, 1] = np.mean(reds) + np.mean(nirs)\n",
    "                axy[i, 2] = np.mean(reds) - np.mean(nirs)\n",
    "        return axy\n",
    "    \n",
    "    def make_X_from_coords(self, coords):\n",
    "        n = len(self.json['scenes'])\n",
    "        imgs = np.empty((len(coords), n * 2), dtype=np.float)\n",
    "        for i in range(n):\n",
    "            S = Scene(i)\n",
    "            img_red, img_nir = S.read_images('solp') \n",
    "            img_red, img_nir = S.normalize_imgs(img_red, img_nir) ### ^^^\n",
    "            imgs[:, i] = img_red[coords[:, 0], coords[:, 1]]\n",
    "            imgs[:, n + i] = img_nir[coords[:, 0], coords[:, 1]]\n",
    "        return self.make_axy_from_all(imgs) ### <<<\n",
    "    "
   ]
  },
  {
   "cell_type": "code",
   "execution_count": 6,
   "metadata": {
    "collapsed": false
   },
   "outputs": [
    {
     "ename": "SyntaxError",
     "evalue": "Missing parentheses in call to 'print' (<ipython-input-6-292d86ad616c>, line 3)",
     "output_type": "error",
     "traceback": [
      "\u001b[0;36m  File \u001b[0;32m\"<ipython-input-6-292d86ad616c>\"\u001b[0;36m, line \u001b[0;32m3\u001b[0m\n\u001b[0;31m    print 'calculating', i, 'scene...'\u001b[0m\n\u001b[0m                      ^\u001b[0m\n\u001b[0;31mSyntaxError\u001b[0m\u001b[0;31m:\u001b[0m Missing parentheses in call to 'print'\n"
     ]
    }
   ],
   "source": [
    "for i in range(5, 6):\n",
    "    A = Scene(i)\n",
    "    print 'calculating', i, 'scene...'\n",
    "    # imgs = A.read_images('solp')\n",
    "    print A.get_soil_line(imgs)\n",
    "    plot_array = A.get_plot_array(imgs)\n",
    "    # A.save_plot_array(plot_array)    # Эти 3 строчки для рисования графика\n",
    "    # A.make_solp_scene()    # Эта строчка для фильтрации снимков по солпу с обведённых графиков\n",
    "    # A.brat_first()    # Эта строчка для генерации txt брату"
   ]
  },
  {
   "cell_type": "code",
   "execution_count": 156,
   "metadata": {
    "collapsed": false
   },
   "outputs": [
    {
     "ename": "KeyError",
     "evalue": "'docs'",
     "output_type": "error",
     "traceback": [
      "\u001b[0;31m---------------------------------------------------------------------------\u001b[0m",
      "\u001b[0;31mKeyError\u001b[0m                                  Traceback (most recent call last)",
      "\u001b[0;32m<ipython-input-156-88b8ce6df0df>\u001b[0m in \u001b[0;36m<module>\u001b[0;34m()\u001b[0m\n\u001b[1;32m     10\u001b[0m \u001b[0mheight\u001b[0m\u001b[0;34m,\u001b[0m \u001b[0mwidth\u001b[0m \u001b[0;34m=\u001b[0m \u001b[0;36m100\u001b[0m\u001b[0;34m,\u001b[0m \u001b[0;36m100\u001b[0m \u001b[0;31m# json['size']['height'], json['size']['width']\u001b[0m\u001b[0;34m\u001b[0m\u001b[0m\n\u001b[1;32m     11\u001b[0m \u001b[0mcoords\u001b[0m \u001b[0;34m=\u001b[0m \u001b[0mnp\u001b[0m\u001b[0;34m.\u001b[0m\u001b[0marray\u001b[0m\u001b[0;34m(\u001b[0m\u001b[0mnp\u001b[0m\u001b[0;34m.\u001b[0m\u001b[0mmeshgrid\u001b[0m\u001b[0;34m(\u001b[0m\u001b[0mrange\u001b[0m\u001b[0;34m(\u001b[0m\u001b[0mheight\u001b[0m\u001b[0;34m)\u001b[0m\u001b[0;34m,\u001b[0m \u001b[0mrange\u001b[0m\u001b[0;34m(\u001b[0m\u001b[0mwidth\u001b[0m\u001b[0;34m)\u001b[0m\u001b[0;34m)\u001b[0m\u001b[0;34m)\u001b[0m\u001b[0;34m.\u001b[0m\u001b[0mT\u001b[0m\u001b[0;34m.\u001b[0m\u001b[0mreshape\u001b[0m\u001b[0;34m(\u001b[0m\u001b[0mheight\u001b[0m \u001b[0;34m*\u001b[0m \u001b[0mwidth\u001b[0m\u001b[0;34m,\u001b[0m \u001b[0;36m2\u001b[0m\u001b[0;34m)\u001b[0m\u001b[0;34m\u001b[0m\u001b[0m\n\u001b[0;32m---> 12\u001b[0;31m \u001b[0mX\u001b[0m \u001b[0;34m=\u001b[0m \u001b[0mSceneGroup\u001b[0m\u001b[0;34m(\u001b[0m\u001b[0mconfig_file\u001b[0m\u001b[0;34m)\u001b[0m\u001b[0;34m.\u001b[0m\u001b[0mmake_X_from_coords\u001b[0m\u001b[0;34m(\u001b[0m\u001b[0mcoords\u001b[0m\u001b[0;34m)\u001b[0m \u001b[0;31m# .reshape((height, width, 3))\u001b[0m\u001b[0;34m\u001b[0m\u001b[0m\n\u001b[0m\u001b[1;32m     13\u001b[0m \u001b[0;34m\u001b[0m\u001b[0m\n\u001b[1;32m     14\u001b[0m \u001b[0marr_c\u001b[0m \u001b[0;34m=\u001b[0m \u001b[0mnp\u001b[0m\u001b[0;34m.\u001b[0m\u001b[0mgenfromtxt\u001b[0m\u001b[0;34m(\u001b[0m\u001b[0mjson\u001b[0m\u001b[0;34m[\u001b[0m\u001b[0;34m'docs'\u001b[0m\u001b[0;34m]\u001b[0m\u001b[0;34m[\u001b[0m\u001b[0;34m'c'\u001b[0m\u001b[0;34m]\u001b[0m\u001b[0;34m)\u001b[0m\u001b[0;34m\u001b[0m\u001b[0m\n",
      "\u001b[0;32m_cython_magic_7db30b61f3d31002ac64a90cc8bba7bd.pyx\u001b[0m in \u001b[0;36m_cython_magic_7db30b61f3d31002ac64a90cc8bba7bd.SceneGroup.make_X_from_coords (/home/fila/.cache/ipython/cython/_cython_magic_7db30b61f3d31002ac64a90cc8bba7bd.c:7895)\u001b[0;34m()\u001b[0m\n",
      "\u001b[0;32m_cython_magic_7db30b61f3d31002ac64a90cc8bba7bd.pyx\u001b[0m in \u001b[0;36m_cython_magic_7db30b61f3d31002ac64a90cc8bba7bd.Scene.normalize_imgs (/home/fila/.cache/ipython/cython/_cython_magic_7db30b61f3d31002ac64a90cc8bba7bd.c:2457)\u001b[0;34m()\u001b[0m\n",
      "\u001b[0;31mKeyError\u001b[0m: 'docs'"
     ]
    }
   ],
   "source": [
    "### Paint .png and .tif maps\n",
    "import numpy as np\n",
    "import simplejson\n",
    "import matplotlib.pyplot as plt\n",
    "%matplotlib inline\n",
    "\n",
    "config_file = '2.json'\n",
    "with open(config_file) as data_file:    \n",
    "    json = simplejson.load(data_file)\n",
    "height, width = 100, 100 # json['size']['height'], json['size']['width']\n",
    "coords = np.array(np.meshgrid(range(height), range(width))).T.reshape(height * width, 2)\n",
    "X = SceneGroup(config_file).make_X_from_coords(coords) # .reshape((height, width, 3))\n",
    "\n",
    "arr_c = np.genfromtxt(json['docs']['c'])\n",
    "arr_6 = np.genfromtxt(json['docs']['6'])\n",
    "X -= arr_6[:, 0]\n",
    "X /= arr_6[:, 1]\n",
    "ans_c = np.zeros((X.shape[0],), dtype=np.int)\n",
    "min_dist = np.ones((X.shape[0],), dtype=np.int) * 100500\n",
    "for i, c in enumerate(arr_c):\n",
    "    dist = (X - c) ** 2\n",
    "    ans_c[min_dist > dist] = i + 1\n",
    "    min_dist[min_dist > dist] = dist\n",
    "ans_c[X[:, 0] == -99] = 0\n",
    "matplotlib.image.imsave('pixel_map.png', ans_c)\n",
    "skimage.io.imsave('pixel_map.tif', ans_c, plugin = 'tifffile')"
   ]
  },
  {
   "cell_type": "code",
   "execution_count": 140,
   "metadata": {
    "collapsed": false
   },
   "outputs": [
    {
     "name": "stdout",
     "output_type": "stream",
     "text": [
      "35\n"
     ]
    }
   ],
   "source": [
    "import os\n",
    "in_path = '/home/fila/Downloads/2bands5/'\n",
    "out_path = '/home/fila/Desktop/landsat2/solp/'\n",
    "names = []\n",
    "for name_full in os.listdir(in_path):\n",
    "    name = name_full[:name_full.find('_')]\n",
    "    names.append(name)\n",
    "    img = skimage.io.imread(in_path + name_full)\n",
    "    skimage.io.imsave(out_path + 'red/' + name + '.tif', img[:, :, 0], plugin='tifffile')\n",
    "    skimage.io.imsave(out_path + 'nir/' + name + '.tif', img[:, :, 1], plugin='tifffile')\n",
    "print(len(names))"
   ]
  },
  {
   "cell_type": "code",
   "execution_count": 152,
   "metadata": {
    "collapsed": false
   },
   "outputs": [
    {
     "name": "stdout",
     "output_type": "stream",
     "text": [
      "{\n",
      "\"bit\": \"16\",\n",
      "\"id\": \"0\",\n",
      "\"path\": \"lc81780232014088lgn00\"\n",
      "},\n",
      "{\n",
      "\"bit\": \"16\",\n",
      "\"id\": \"1\",\n",
      "\"path\": \"lc81780232014232lgn00\"\n",
      "},\n",
      "{\n",
      "\"bit\": \"16\",\n",
      "\"id\": \"2\",\n",
      "\"path\": \"lc81780232014264lgn00\"\n",
      "},\n",
      "{\n",
      "\"bit\": \"16\",\n",
      "\"id\": \"3\",\n",
      "\"path\": \"lc81780232014296lgn00\"\n",
      "},\n",
      "{\n",
      "\"bit\": \"16\",\n",
      "\"id\": \"4\",\n",
      "\"path\": \"lc81780232015075lgn00\"\n",
      "},\n",
      "{\n",
      "\"bit\": \"16\",\n",
      "\"id\": \"5\",\n",
      "\"path\": \"lc81780232015187lgn00\"\n",
      "},\n",
      "{\n",
      "\"bit\": \"8\",\n",
      "\"id\": \"6\",\n",
      "\"path\": \"le71780231999279edc00\"\n",
      "},\n",
      "{\n",
      "\"bit\": \"8\",\n",
      "\"id\": \"7\",\n",
      "\"path\": \"le71780232000138sgs00\"\n",
      "},\n",
      "{\n",
      "\"bit\": \"8\",\n",
      "\"id\": \"8\",\n",
      "\"path\": \"le71780232001124sgs01\"\n",
      "},\n",
      "{\n",
      "\"bit\": \"8\",\n",
      "\"id\": \"9\",\n",
      "\"path\": \"le71780232002143sgs00\"\n",
      "},\n",
      "{\n",
      "\"bit\": \"8\",\n",
      "\"id\": \"10\",\n",
      "\"path\": \"le71780232002239sgs01\"\n",
      "},\n",
      "{\n",
      "\"bit\": \"8\",\n",
      "\"id\": \"11\",\n",
      "\"path\": \"le71780232002287sgs01\"\n",
      "},\n",
      "{\n",
      "\"bit\": \"8\",\n",
      "\"id\": \"12\",\n",
      "\"path\": \"le71780232003146asn00\"\n",
      "},\n",
      "{\n",
      "\"bit\": \"8\",\n",
      "\"id\": \"13\",\n",
      "\"path\": \"lt51780231985136kis00\"\n",
      "},\n",
      "{\n",
      "\"bit\": \"8\",\n",
      "\"id\": \"14\",\n",
      "\"path\": \"lt51780231985216xxx03\"\n",
      "},\n",
      "{\n",
      "\"bit\": \"8\",\n",
      "\"id\": \"15\",\n",
      "\"path\": \"lt51780231986123xxx02\"\n",
      "},\n",
      "{\n",
      "\"bit\": \"8\",\n",
      "\"id\": \"16\",\n",
      "\"path\": \"lt51780231986171xxx04\"\n",
      "},\n",
      "{\n",
      "\"bit\": \"8\",\n",
      "\"id\": \"17\",\n",
      "\"path\": \"lt51780231986187xxx03\"\n",
      "},\n",
      "{\n",
      "\"bit\": \"8\",\n",
      "\"id\": \"18\",\n",
      "\"path\": \"lt51780231986347xxx03\"\n",
      "},\n",
      "{\n",
      "\"bit\": \"8\",\n",
      "\"id\": \"19\",\n",
      "\"path\": \"lt51780231987302kis00\"\n",
      "},\n",
      "{\n",
      "\"bit\": \"8\",\n",
      "\"id\": \"20\",\n",
      "\"path\": \"lt51780231988273kis00\"\n",
      "},\n",
      "{\n",
      "\"bit\": \"8\",\n",
      "\"id\": \"21\",\n",
      "\"path\": \"lt51780231989147kis00\"\n",
      "},\n",
      "{\n",
      "\"bit\": \"8\",\n",
      "\"id\": \"22\",\n",
      "\"path\": \"lt51780231989195kis00\"\n",
      "},\n",
      "{\n",
      "\"bit\": \"8\",\n",
      "\"id\": \"23\",\n",
      "\"path\": \"lt51780231990134kis01\"\n",
      "},\n",
      "{\n",
      "\"bit\": \"8\",\n",
      "\"id\": \"24\",\n",
      "\"path\": \"lt51780231994193kis00\"\n",
      "},\n",
      "{\n",
      "\"bit\": \"8\",\n",
      "\"id\": \"25\",\n",
      "\"path\": \"lt51780231994241kis00\"\n",
      "},\n",
      "{\n",
      "\"bit\": \"8\",\n",
      "\"id\": \"26\",\n",
      "\"path\": \"lt51780231998092kis00\"\n",
      "},\n",
      "{\n",
      "\"bit\": \"8\",\n",
      "\"id\": \"27\",\n",
      "\"path\": \"lt51780231998140kis00\"\n",
      "},\n",
      "{\n",
      "\"bit\": \"8\",\n",
      "\"id\": \"28\",\n",
      "\"path\": \"lt51780232003266mti01\"\n",
      "},\n",
      "{\n",
      "\"bit\": \"8\",\n",
      "\"id\": \"29\",\n",
      "\"path\": \"lt51780232006226kis02\"\n",
      "},\n",
      "{\n",
      "\"bit\": \"8\",\n",
      "\"id\": \"30\",\n",
      "\"path\": \"lt51780232007229mor00\"\n",
      "},\n",
      "{\n",
      "\"bit\": \"8\",\n",
      "\"id\": \"31\",\n",
      "\"path\": \"lt51780232010221kis01\"\n",
      "},\n",
      "{\n",
      "\"bit\": \"8\",\n",
      "\"id\": \"32\",\n",
      "\"path\": \"lt51780232011128kis00\"\n",
      "},\n",
      "{\n",
      "\"bit\": \"8\",\n",
      "\"id\": \"33\",\n",
      "\"path\": \"lt51780232011208kis01\"\n",
      "},\n",
      "{\n",
      "\"bit\": \"8\",\n",
      "\"id\": \"34\",\n",
      "\"path\": \"lt51780232011240kis01\"\n",
      "},\n"
     ]
    }
   ],
   "source": [
    "for i, name in enumerate(sorted(names)):\n",
    "    bit = 8\n",
    "    if (name[2] == '8'):\n",
    "        bit = 16\n",
    "    print('{\\n\"bit\": \"' + str(bit) + '\",\\n\"id\": \"' +  str(i) + '\",\\n\"path\": \"'+ name + '\"\\n' + '},')"
   ]
  },
  {
   "cell_type": "code",
   "execution_count": null,
   "metadata": {
    "collapsed": true
   },
   "outputs": [],
   "source": [
    "\"height\": 2132,\n",
    "\"width\": 2755\n"
   ]
  },
  {
   "cell_type": "code",
   "execution_count": 100,
   "metadata": {
    "collapsed": false
   },
   "outputs": [
    {
     "data": {
      "text/plain": [
       "array([[[0, 0, 2],\n",
       "        [0, 1, 2]],\n",
       "\n",
       "       [[1, 0, 2],\n",
       "        [1, 1, 2]]])"
      ]
     },
     "execution_count": 100,
     "metadata": {},
     "output_type": "execute_result"
    }
   ],
   "source": [
    "aaa = np.array([[0, 0, 2], [0, 1, 2], [1, 0, 2], [1, 1, 2]])\n",
    "aaa.reshape((2, 2, 3))"
   ]
  },
  {
   "cell_type": "code",
   "execution_count": 101,
   "metadata": {
    "collapsed": false
   },
   "outputs": [
    {
     "data": {
      "text/plain": [
       "array([[0, 0, 4],\n",
       "       [0, 2, 4],\n",
       "       [2, 0, 4],\n",
       "       [2, 2, 4]])"
      ]
     },
     "execution_count": 101,
     "metadata": {},
     "output_type": "execute_result"
    }
   ],
   "source": [
    "np.vectorize(lambda x: x * 2)(aaa)"
   ]
  },
  {
   "cell_type": "code",
   "execution_count": 90,
   "metadata": {
    "collapsed": false
   },
   "outputs": [
    {
     "data": {
      "text/plain": [
       "array([0, 4, 4])"
      ]
     },
     "execution_count": 90,
     "metadata": {},
     "output_type": "execute_result"
    }
   ],
   "source": [
    "aaa[[0, 1, 2], [1, 2, 2]]"
   ]
  },
  {
   "cell_type": "code",
   "execution_count": 118,
   "metadata": {
    "collapsed": false
   },
   "outputs": [
    {
     "name": "stdout",
     "output_type": "stream",
     "text": [
      "[[[ 0  1  2]\n",
      "  [ 3  4  5]]\n",
      "\n",
      " [[ 6  7  8]\n",
      "  [ 9 10 11]]]\n"
     ]
    },
    {
     "data": {
      "text/plain": [
       "array([[ 0,  1,  2],\n",
       "       [ 9, 10, 11]])"
      ]
     },
     "execution_count": 118,
     "metadata": {},
     "output_type": "execute_result"
    }
   ],
   "source": [
    "bbb = np.arange(12).reshape((2, 2, 3))\n",
    "print(bbb)\n",
    "bbb[[0, 1], [0, 1]]"
   ]
  },
  {
   "cell_type": "code",
   "execution_count": 116,
   "metadata": {
    "collapsed": false
   },
   "outputs": [
    {
     "data": {
      "text/plain": [
       "array([[[  4.94065646e-324,   1.00000000e+000],\n",
       "        [  9.88131292e-324,   2.00000000e+000],\n",
       "        [  1.48219694e-323,   3.00000000e+000]],\n",
       "\n",
       "       [[  1.97626258e-323,   4.00000000e+000],\n",
       "        [  2.47032823e-323,   5.00000000e+000],\n",
       "        [  2.96439388e-323,   6.00000000e+000]]])"
      ]
     },
     "execution_count": 116,
     "metadata": {},
     "output_type": "execute_result"
    }
   ],
   "source": [
    "ccc = np.arange(6).reshape((2, 3))\n",
    "ccc += 1\n",
    "ddd = np.empty((2, 3))\n",
    "np.dstack((ddd, ccc))"
   ]
  },
  {
   "cell_type": "code",
   "execution_count": 113,
   "metadata": {
    "collapsed": false
   },
   "outputs": [
    {
     "data": {
      "text/plain": [
       "array([[1, 2, 3],\n",
       "       [4, 5, 6]])"
      ]
     },
     "execution_count": 113,
     "metadata": {},
     "output_type": "execute_result"
    }
   ],
   "source": [
    "ccc"
   ]
  },
  {
   "cell_type": "code",
   "execution_count": null,
   "metadata": {
    "collapsed": true
   },
   "outputs": [],
   "source": []
  }
 ],
 "metadata": {
  "kernelspec": {
   "display_name": "Python 3",
   "language": "python",
   "name": "python3"
  },
  "language_info": {
   "codemirror_mode": {
    "name": "ipython",
    "version": 3
   },
   "file_extension": ".py",
   "mimetype": "text/x-python",
   "name": "python",
   "nbconvert_exporter": "python",
   "pygments_lexer": "ipython3",
   "version": "3.5.2"
  }
 },
 "nbformat": 4,
 "nbformat_minor": 0
}
