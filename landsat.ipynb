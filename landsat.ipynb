{
 "cells": [
  {
   "cell_type": "code",
   "execution_count": null,
   "metadata": {
    "collapsed": false
   },
   "outputs": [],
   "source": [
    "import os\n",
    "import simplejson as json\n",
    "\n",
    "class Prepare:\n",
    "    def __init__(self):\n",
    "        self.json_name = '1.json'\n",
    "        with open(self.json_name) as data_file:    \n",
    "            self.json = json.load(data_file)\n",
    "        self.path = self.json['path0']\n",
    "    \n",
    "    # add all scenes from landsats_done\n",
    "    def add_scenes_to_json(self):\n",
    "        dirs = [d for d in os.listdir(self.path) if os.path.isdir(os.path.join(self.path, d))]\n",
    "        self.json['scenes'] = []\n",
    "        id = 0\n",
    "        for d in dirs:\n",
    "            tmp = {}\n",
    "            tmp['id'] = id\n",
    "            id += 1\n",
    "            tmp['path'] = d\n",
    "            tmp['bit'] = '16' if (d[2] == '8') else '8'\n",
    "            self.json['scenes'].append(tmp)\n",
    "        with open(self.json_name, 'w') as outfile:\n",
    "            json.dump(self.json, outfile, sort_keys = True, indent = 4, ensure_ascii = False)\n",
    "\n",
    "    # copy all need files from landsats_done\n",
    "    def copy_need_files(self):\n",
    "        path_in = self.json['path']\n",
    "        dirs = [os.path.join(path_in, i) for i in \n",
    "                ['in', 'in_filtered', 'in/red', 'in/nir', 'in_filtered/red', 'in_filtered/nir']]\n",
    "        try:\n",
    "            for i in dirs:\n",
    "                os.mkdir(i)\n",
    "        except:\n",
    "            raise Exception('copy_need_files: dirs can not be created or exist')\n",
    "        for i in self.json['scenes']:\n",
    "            if (i['bit'] == '8'):\n",
    "                suffs = ['_B3_C.tif', '_B4_C.tif', '_B3_C_F.tif', '_B4_C_F.tif']\n",
    "            else:\n",
    "                suffs = ['_B4_C.tif', '_B5_C.tif', '_B4_C_F.tif', '_B5_C_F.tif']\n",
    "            for j in range(len(suffs)):\n",
    "                os.system(\"cp \" + os.path.join(self.path, i['path'], i['path'] + suffs[j]) + \" \" + \n",
    "                          os.path.join(dirs[j + 2], i['path'] + '.tif'))\n",
    "    \n",
    "pr = Prepare()\n",
    "#pr.add_scenes_to_json()\n",
    "pr.copy_need_files()"
   ]
  },
  {
   "cell_type": "code",
   "execution_count": 4,
   "metadata": {
    "collapsed": false
   },
   "outputs": [],
   "source": [
    "import os\n",
    "import simplejson as json\n",
    "import numpy as np\n",
    "import skimage.io\n",
    "import matplotlib\n",
    "import scipy.spatial.distance\n",
    "\n",
    "# class for one scene analyse\n",
    "class Scene:\n",
    "    def __init__(self, _id_):\n",
    "        self.id = _id_\n",
    "        with open('1.json') as data_file:    \n",
    "            self.json = json.load(data_file)\n",
    "        self.bit = self.json['scenes'][self.id]['bit']\n",
    "        self.path = self.json['scenes'][self.id]['path']\n",
    "            \n",
    "    def is_in_mask(self, img, x, y):\n",
    "        if self.bit == '16':\n",
    "            return img[y, x] < 64000 # strange constant\n",
    "        else:\n",
    "            return img[y, x] < 253\n",
    "        \n",
    "    def get_white_pixel(self):\n",
    "        if self.bit == '16':\n",
    "            return 65535\n",
    "        else:\n",
    "            return 255\n",
    "\n",
    "    def read_images(self, path):\n",
    "        return {'red': skimage.io.imread(os.path.join(self.json['path'], self.json['paths'][path], 'red',\n",
    "                                                     self.path +  self.json['suffs'][path])),\n",
    "                'nir': skimage.io.imread(os.path.join(self.json['path'], self.json['paths'][path], 'nir',\n",
    "                                                     self.path +  self.json['suffs'][path]))}\n",
    "    \n",
    "    def get_plot_array(self, img_red, img_nir):\n",
    "        sizes = self.json['plotSizes'][self.bit]\n",
    "        plot_array = np.zeros([sizes['red'][1] - sizes['red'][0] + 1,\n",
    "                               sizes['nir'][1] - sizes['nir'][0] + 1], dtype = 'int32')\n",
    "        for y, x in np.ndindex(img_red.shape):\n",
    "            if self.is_in_mask(img_red, x, y) and self.is_in_mask(img_nir, x, y) \\\n",
    "                and sizes['red'][0] <= img_red[y, x] <= sizes['red'][1] \\\n",
    "                and sizes['nir'][0] <= img_nir[y, x] <= sizes['nir'][1]:\n",
    "                    plot_array[img_nir[y, x] - sizes['nir'][0], img_red[y, x] - sizes['red'][0]] += 1\n",
    "        return plot_array\n",
    "    \n",
    "    def save_plot_array(self, plot_array):\n",
    "        matplotlib.image.imsave(os.path.join(self.json['path'], self.json['paths']['notMarkedPlots'], \n",
    "                                             self.path + self.json['suffs']['markedPlots']), \n",
    "                                plot_array[::-1, :])\n",
    "        \n",
    "    def make_solp_scene(self):\n",
    "        imgs = self.read_images('inFiltered')\n",
    "        sizes = self.json['plotSizes'][self.bit]\n",
    "        plot_marked = skimage.io.imread(os.path.join(self.json['path'], self.json['paths']['markedPlots'], \n",
    "                                                     self.path + self.json['suffs']['markedPlots']))\n",
    "        colors = self.json['colorsMarkedPlots'][1:2:1]\n",
    "        print colors\n",
    "        color_eps = 9\n",
    "        for x, y in np.ndindex(imgs['red'].shape):\n",
    "            red, nir = imgs['red'][x, y], imgs['nir'][x, y]\n",
    "            if not sizes['red'][0] <= red <= sizes['red'][1] or not sizes['nir'][0] <= nir <= sizes['nir'][1]:\n",
    "                for img in imgs.values():\n",
    "                    img[x, y] = self.get_white_pixel()\n",
    "                continue\n",
    "            for color in colors:\n",
    "                if scipy.spatial.distance.pdist([plot_marked[sizes['nir'][1] - nir, red - sizes['red'][0]][0:3:1],\n",
    "                                                 color], 'minkowski', 1)[0] < color_eps:\n",
    "                    break\n",
    "            else:\n",
    "                for img in imgs.values():\n",
    "                    img[x, y] = self.get_white_pixel()\n",
    "        ch_arr = ['red', 'nir']\n",
    "        for ch in ch_arr:\n",
    "            skimage.io.imsave(os.path.join(self.json['path'], self.json['paths']['solp'], ch, \n",
    "                                           self.path + self.json['suffs']['solp']), \n",
    "                              imgs[ch], plugin = 'tifffile')\n",
    "    \n",
    "    def get_soil_line(self, imgs):\n",
    "        plot_array = A.get_plot_array(imgs['red'], imgs['nir'])\n",
    "        red, nir = [], []\n",
    "        for x, y in np.ndindex(imgs['red'].shape):\n",
    "            red.append(imgs['red'][x, y])\n",
    "            nir.append(imgs['nir'][x, y])\n",
    "        red_matrix = np.vstack([red, np.ones(len(red))]).T\n",
    "        return np.linalg.lstsq(red_matrix, nir)[0]\n",
    "    \n",
    "    def brat_vec(self, imgs, pnt, rad, line):\n",
    "        res_x, res_y, ave_x, ave_y, ave_subj, n = 0, 0, 0, 0, 0, 0\n",
    "        for y in np.arange(max(pnt['y'] - rad, 0), min(pnt['y'] + rad, imgs['red'].shape[0])):\n",
    "            for x in np.arange(max(pnt['x'] - rad, 0), min(pnt['x'] + rad, imgs['red'].shape[1])):\n",
    "                if (pnt['x'] - x) ** 2 + (pnt['y'] - y) ** 2 <= rad ** 2 \\\n",
    "                    and self.is_in_mask(imgs['red'], x, y) and self.is_in_mask(imgs['nir'], x, y):\n",
    "                        n += 1\n",
    "                        subj = float(-line[0]) * imgs['red'][y, x] - line[1] + imgs['nir'][y, x]\n",
    "                        res_x += x * subj\n",
    "                        res_y += y * subj\n",
    "                        ave_x += x\n",
    "                        ave_y += y\n",
    "                        ave_subj += subj\n",
    "        return {'xx': (res_x - ave_x * ave_subj) / float(n) if n > 0 else -9999,\n",
    "               'yy': (res_y - ave_y * ave_subj) / float(n) if n > 0 else -9999,\n",
    "               'avg': ave_subj / float(n) if n > 0 else -9999,\n",
    "               'n': n}\n",
    "    \n",
    "    def brat_f1(self):\n",
    "        json_f1 = self.json['brat_f1']\n",
    "        rad, x_pts, y_pts = json_f1['rad'], json_f1['xPts'], json_f1['yPts']\n",
    "        imgs = self.read_images('in')\n",
    "        plot_array = self.get_plot_array(imgs['red'], imgs['nir'])\n",
    "        line = self.get_soil_line(imgs)\n",
    "        x_abs_0, y_abs_0 = json_f1['xAbs0'], json_f1['yAbs0']\n",
    "        x_abs_step, y_abs_step = json_f1['xAbsStep'], json_f1['yAbsStep']\n",
    "        need_comma = 0\n",
    "        \n",
    "        f = open(self.json['paths']['bratTxt'] + self.path + self.json['suffs']['bratTxt'], 'w')\n",
    "        for i in range(x_pts):\n",
    "            for j in range(y_pts):\n",
    "                print i, j, \"\\n\"\n",
    "                x = float(i) / (x_pts - 1) * imgs['red'].shape[1]\n",
    "                y = float(j) / (y_pts - 1) * imgs['red'].shape[0]\n",
    "                x_abs = x_abs_0 + x * x_abs_step\n",
    "                y_abs = y_abs_0 + y * y_abs_step\n",
    "                vec = self.brat_vec(imgs, {'x': x, 'y': y}, rad, line)\n",
    "                if need_comma:\n",
    "                    f.write(',')\n",
    "                f.write('{{%i,%i},{%i,%i},{%f,%f},%f,%i}\\n' % \n",
    "                        (x, y, x_abs, y_abs, float(vec['xx']), float(vec['yy']), float(vec['avg']), vec['n']))\n",
    "                if not need_comma:\n",
    "                    need_comma = 1\n",
    "        f.write('}')\n",
    "        close(f)"
   ]
  },
  {
   "cell_type": "code",
   "execution_count": 5,
   "metadata": {
    "collapsed": false
   },
   "outputs": [
    {
     "name": "stdout",
     "output_type": "stream",
     "text": [
      "CPU times: user 1min 12s, sys: 278 ms, total: 1min 12s\n",
      "Wall time: 1min 11s\n"
     ]
    }
   ],
   "source": [
    "A = Scene(5)\n",
    "#A.brat_f1()\n",
    "#A.make_solp_scene()\n",
    "#A.get_soil_line()\n",
    "imgs = A.read_images('in')\n",
    "%time plot_array = A.get_plot_array(imgs['red'], imgs['nir'])\n",
    "#A.save_plot_array(plot_array)"
   ]
  },
  {
   "cell_type": "code",
   "execution_count": null,
   "metadata": {
    "collapsed": false
   },
   "outputs": [],
   "source": [
    "%pylab inline\n",
    "import matplotlib.pyplot as plt\n",
    "plt.imshow(plot_array[::-1, :])\n",
    "#plt.xlim([0, 255])\n",
    "#plt.ylim([255, 0])\n",
    "#plt.axis('off')\n",
    "#ax = plt.gca()\n",
    "#ax.xaxis.set_major_formatter(plt.NullFormatter())\n",
    "#ax.yaxis.set_major_formatter(plt.NullFormatter())\n",
    "c = plt.gcf()\n",
    "#plt.gcf().set_size_inches(1, 1)\n",
    "#c.subplots_adjust(bottom=0.,left=0.,right=1.,top=1.)\n",
    "\n",
    "\n",
    "#plt.autoscale(True, 'both')\n",
    "\n",
    "plt.axes().axes.get_yaxis().set_visible(False)\n",
    "plt.axes().axes.get_xaxis().set_visible(False)\n",
    "\n",
    "\n",
    "c = plt.gcf()\n",
    "c.set_size_inches(1., 1.)\n",
    "#c.set_dpi(256 / 2.00)\n",
    "\n",
    "plt.savefig('test2.png', dpi=256, bbox_inches = 'tight', pad_inches = 0)\n",
    "\n",
    "plt.show()"
   ]
  },
  {
   "cell_type": "code",
   "execution_count": null,
   "metadata": {
    "collapsed": false
   },
   "outputs": [],
   "source": [
    "import matplotlib\n",
    "matplotlib.image.imsave('name.png', plot_array[::-1, :])"
   ]
  },
  {
   "cell_type": "code",
   "execution_count": null,
   "metadata": {
    "collapsed": false
   },
   "outputs": [],
   "source": [
    "str = \"/media/fila/DATA/landsat/landsats_done\"\n",
    "str1 = \"/media/fila/DATA/landsat/in\"\n",
    "with open('1.json') as data_file:    \n",
    "    data = json.load(data_file)\n",
    "for i in data['scenes']:\n",
    "    file1 = os.path.join(str, i['path'], i['path'] + i['suffNir'])\n",
    "    file2 = os.path.join(str, i['path'], i['path'] + i['suffRed'])\n",
    "    os.system(\"cp \" + file1 + \" \" + str1)\n",
    "    os.system(\"cp \" + file2 + \" \" + str1)"
   ]
  },
  {
   "cell_type": "code",
   "execution_count": null,
   "metadata": {
    "collapsed": false
   },
   "outputs": [],
   "source": [
    "%time img = skimage.io.imread('/media/fila/DATA/landsat/in/red/LE71780232001124SGS01.tif')\n",
    "print img.shape"
   ]
  },
  {
   "cell_type": "code",
   "execution_count": null,
   "metadata": {
    "collapsed": false
   },
   "outputs": [],
   "source": [
    "qqq = [1,2,3,4,5,6,7,8]\n",
    "qqq[1:4]"
   ]
  },
  {
   "cell_type": "code",
   "execution_count": null,
   "metadata": {
    "collapsed": false
   },
   "outputs": [],
   "source": [
    "for x, y in np.ndindex(img.shape[0:2:1]):\n",
    "    p = img[x, y]\n",
    "    if abs(p[0] - 100) <= 5 and abs(p[1] - 255) <= 5 and abs(p[2] - 100) <= 5:\n",
    "        print p"
   ]
  },
  {
   "cell_type": "code",
   "execution_count": null,
   "metadata": {
    "collapsed": false
   },
   "outputs": [],
   "source": []
  },
  {
   "cell_type": "code",
   "execution_count": null,
   "metadata": {
    "collapsed": false
   },
   "outputs": [],
   "source": [
    "for i in range(5):\n",
    "    for j in range(5):\n",
    "        break\n",
    "    else:\n",
    "        print '111'"
   ]
  },
  {
   "cell_type": "code",
   "execution_count": null,
   "metadata": {
    "collapsed": false
   },
   "outputs": [],
   "source": [
    "a = {'red': 123, 'nir': 234}\n",
    "for aaa in a.values():\n",
    "    print aaa"
   ]
  },
  {
   "cell_type": "code",
   "execution_count": null,
   "metadata": {
    "collapsed": false
   },
   "outputs": [],
   "source": [
    "qqq = np.array([1,2])\n",
    "print qqq[1:2:1]"
   ]
  },
  {
   "cell_type": "code",
   "execution_count": null,
   "metadata": {
    "collapsed": false
   },
   "outputs": [],
   "source": [
    "min(0, -1.00)"
   ]
  },
  {
   "cell_type": "code",
   "execution_count": 2,
   "metadata": {
    "collapsed": false
   },
   "outputs": [],
   "source": [
    "%load_ext Cython\n",
    "import skimage.io\n",
    "img = skimage.io.imread('/media/fila/DATA/landsat/in/red/LE71780232001124SGS01.tif')\n"
   ]
  },
  {
   "cell_type": "code",
   "execution_count": 3,
   "metadata": {
    "collapsed": false
   },
   "outputs": [],
   "source": [
    "%%cython\n",
    "cimport cython\n",
    "cimport numpy as np\n",
    "\n",
    "@cython.boundscheck(False)\n",
    "def ff(np.ndarray img1):\n",
    "    b = '12312312s'\n",
    "    b = 1\n",
    "    cdef int s = 0\n",
    "    cdef unsigned int x = 0\n",
    "    cdef unsigned int y = 0\n",
    "    for x in range(img1.shape[1]):\n",
    "        for y in range(img1.shape[0]):\n",
    "            s += <unsigned int>img1[<unsigned int>y, <unsigned int>x]\n",
    "    print s"
   ]
  },
  {
   "cell_type": "code",
   "execution_count": 23,
   "metadata": {
    "collapsed": false
   },
   "outputs": [
    {
     "name": "stdout",
     "output_type": "stream",
     "text": [
      "305767252\n",
      "CPU times: user 530 ms, sys: 0 ns, total: 530 ms\n",
      "Wall time: 529 ms\n"
     ]
    }
   ],
   "source": [
    "%time ff(img)"
   ]
  },
  {
   "cell_type": "code",
   "execution_count": 10,
   "metadata": {
    "collapsed": false
   },
   "outputs": [],
   "source": [
    "import numpy as np\n",
    "\n",
    "def fff(img1):\n",
    "    s = 0\n",
    "    for x in range(img1.shape[1]):\n",
    "        for y in range(img1.shape[0]):\n",
    "            s += img1[y, x]\n",
    "    print s"
   ]
  },
  {
   "cell_type": "code",
   "execution_count": 11,
   "metadata": {
    "collapsed": false
   },
   "outputs": [
    {
     "name": "stdout",
     "output_type": "stream",
     "text": [
      "305767252\n",
      "CPU times: user 1.27 s, sys: 20.1 ms, total: 1.29 s\n",
      "Wall time: 1.26 s\n"
     ]
    }
   ],
   "source": [
    "%time fff(img)"
   ]
  },
  {
   "cell_type": "code",
   "execution_count": null,
   "metadata": {
    "collapsed": false
   },
   "outputs": [],
   "source": [
    "def gg():\n",
    "    cdef int s\n",
    "    s = 0\n",
    "    while (s < 10**8):\n",
    "        s += 1\n",
    "gg()"
   ]
  },
  {
   "cell_type": "code",
   "execution_count": 9,
   "metadata": {
    "collapsed": false
   },
   "outputs": [
    {
     "data": {
      "text/plain": [
       "(2181, 2882)"
      ]
     },
     "execution_count": 9,
     "metadata": {},
     "output_type": "execute_result"
    }
   ],
   "source": [
    "def get_soil_line(self, imgs):\n",
    "        cdef np.ndarray[np.uint16_t, ndim = 2] img_red = imgs['red'].astype('uint16', copy = False)\n",
    "        cdef np.ndarray[np.uint16_t, ndim = 2] img_nir = imgs['nir'].astype('uint16', copy = False)\n",
    "        cdef list red = [], nir = []\n",
    "        cdef int x, y\n",
    "        for x in range(img_red.shape[1]):\n",
    "            for y in range(img_red.shape[0]):\n",
    "                red.append(img_red[y, x])\n",
    "                nir.append(img_nir[y, x])\n",
    "        #return np.linalg.lstsq(np.vstack([red, np.ones(len(red))]).T, nir)[0]"
   ]
  },
  {
   "cell_type": "code",
   "execution_count": null,
   "metadata": {
    "collapsed": true
   },
   "outputs": [],
   "source": [
    "def get_soil_line(self, imgs):\n",
    "        cdef np.ndarray[np.uint16_t, ndim = 2] img_red = imgs['red'].astype('uint16', copy = False)\n",
    "        cdef np.ndarray[np.uint16_t, ndim = 2] img_nir = imgs['nir'].astype('uint16', copy = False)\n",
    "        #cdef list red = [], nir = []\n",
    "        cdef np.ndarray[np.uint16_t, ndim = 1] red = np.zeros([img_red.size], dtype = 'uint16')\n",
    "        cdef np.ndarray[np.uint16_t, ndim = 1] nir = np.zeros([img_red.size], dtype = 'uint16')\n",
    "        cdef int x, y, size = 0\n",
    "        for x in range(img_red.shape[1]):\n",
    "            for y in range(img_red.shape[0]):\n",
    "                red[size] = imgs['red'][y, x]\n",
    "                nir[size] = imgs['nir'][y, x]\n",
    "        #return np.linalg.lstsq(np.vstack([red, np.ones(len(red))]).T, nir)[0]"
   ]
  }
 ],
 "metadata": {
  "kernelspec": {
   "display_name": "Python 2",
   "language": "python",
   "name": "python2"
  },
  "language_info": {
   "codemirror_mode": {
    "name": "ipython",
    "version": 2
   },
   "file_extension": ".py",
   "mimetype": "text/x-python",
   "name": "python",
   "nbconvert_exporter": "python",
   "pygments_lexer": "ipython2",
   "version": "2.7.6"
  }
 },
 "nbformat": 4,
 "nbformat_minor": 0
}
