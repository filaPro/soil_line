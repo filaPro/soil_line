{
 "cells": [
  {
   "cell_type": "code",
   "execution_count": null,
   "metadata": {
    "collapsed": false
   },
   "outputs": [],
   "source": [
    "# making full json config from {'pathIn' : '...'}\n",
    "def make_full_json_config():\n",
    "    import os\n",
    "    import simplejson as json\n",
    "\n",
    "    with open('1.json') as data_file:    \n",
    "        data = json.load(data_file)\n",
    "    dirs = [d for d in os.listdir(data['pathIn']) if os.path.isdir(os.path.join(data['pathIn'], d))]\n",
    "    data['scenes'] = []\n",
    "    id = 0\n",
    "    for d in dirs:\n",
    "        tmp = {}\n",
    "        tmp['id'] = id\n",
    "        id += 1\n",
    "        tmp['path'] = d\n",
    "        tmp['bit'] = '16' if (d[2] == '8') else '8'\n",
    "        data['scenes'].append(tmp)\n",
    "    with open('1.json', 'w') as outfile:\n",
    "        json.dump(data, outfile, sort_keys = True, indent = 4, ensure_ascii = False)\n",
    "        \n",
    "# copy all need files from Landsats_done\n",
    "def copy_need_files():\n",
    "    str = \"/media/fila/DATA/landsat/Landsats_done\"\n",
    "    str1 = \"/media/fila/DATA/landsat/in\"\n",
    "    with open('1.json') as data_file:    \n",
    "        data = json.load(data_file)\n",
    "    for i in data['scenes']:\n",
    "        file1 = os.path.join(str, i['path'], i['path'] + data['suffs']['in'][i['bit']]['red'])\n",
    "        file2 = os.path.join(str, i['path'], i['path'] + data['suffs']['in'][i['bit']]['nir'])\n",
    "        os.system(\"cp \" + file1 + \" \" + str1)\n",
    "        os.system(\"cp \" + file2 + \" \" + str1)\n",
    "    \n",
    "copy_need_files()"
   ]
  },
  {
   "cell_type": "code",
   "execution_count": 10,
   "metadata": {
    "collapsed": false
   },
   "outputs": [
    {
     "name": "stdout",
     "output_type": "stream",
     "text": [
      "[[100, 255, 100]]\n",
      "361028\n"
     ]
    }
   ],
   "source": [
    "import os\n",
    "import simplejson as json\n",
    "import numpy as np\n",
    "import skimage.io\n",
    "import matplotlib\n",
    "import scipy.spatial.distance\n",
    "\n",
    "# class for one scene analyse\n",
    "class Scene:\n",
    "    def __init__(self, _id_):\n",
    "        self.id = _id_\n",
    "        with open('1.json') as data_file:    \n",
    "            self.json = json.load(data_file)\n",
    "        self.bit = self.json['scenes'][self.id]['bit']\n",
    "        self.path = self.json['scenes'][self.id]['path']\n",
    "            \n",
    "    def is_in_mask(self, img, x, y):\n",
    "        if self.bit == '16':\n",
    "            return img[x, y] < 64000 # strange constant\n",
    "        else:\n",
    "            return img[x, y] < 253\n",
    "        \n",
    "    def get_white_pixel(self):\n",
    "        if self.bit == '16':\n",
    "            return 65535\n",
    "        else:\n",
    "            return 255\n",
    "    \n",
    "    # type from  ['in', 'inFiltered', 'solp']\n",
    "    def read_images(self, type):\n",
    "        if (type not in ['in', 'inFiltered', 'solp']):\n",
    "            raise 'read_image: wrong type'\n",
    "        if (type in ['in', 'inFiltered']):\n",
    "            file_red = os.path.join(self.json['pathIn'], self.path + self.json['suffs'][type][self.bit]['red'])\n",
    "            file_nir = os.path.join(self.json['pathIn'], self.path + self.json['suffs'][type][self.bit]['nir'])\n",
    "        else:\n",
    "            file_red = os.path.join(self.json['pathOut'], self.json['pathSolp'], self.path + \n",
    "                                    self.json['suffs']['in'][self.bit]['red'])\n",
    "            file_nir = os.path.join(self.json['pathOut'], self.json['pathSolp'], self.path + \n",
    "                                    self.json['suffs']['in'][self.bit]['nir'])\n",
    "        return {'red': skimage.io.imread(file_red), 'nir': skimage.io.imread(file_nir)}\n",
    "    \n",
    "    def get_plot_array(self, img_red, img_nir):\n",
    "        sizes = self.json['plotSizes'][self.bit]\n",
    "        plot_array = np.zeros([sizes['red'][1] - sizes['red'][0] + 1,\n",
    "                               sizes['nir'][1] - sizes['nir'][0] + 1], dtype = 'int32')\n",
    "        for x, y in np.ndindex(img_red.shape):\n",
    "            if self.is_in_mask(img_red, x, y) and self.is_in_mask(img_nir, x, y) \\\n",
    "                and sizes['red'][0] <= img_red[x, y] <= sizes['red'][1] \\\n",
    "                and sizes['nir'][0] <= img_nir[x, y] <= sizes['nir'][1]:\n",
    "                    plot_array[img_nir[x, y] - sizes['nir'][0], img_red[x, y] - sizes['red'][0]] += 1\n",
    "        return plot_array\n",
    "    \n",
    "    def save_plot_array(self, plot_array):\n",
    "        matplotlib.image.imsave(os.path.join(self.json['pathOut'], self.json['pathNotMarkedPlots'], \n",
    "                                             self.path + self.json['suffs']['markedPlots']), \n",
    "                                plot_array[::-1, :])\n",
    "        \n",
    "    def make_solp_scene(self):\n",
    "        imgs = self.read_images('inFiltered')\n",
    "        sizes = self.json['plotSizes'][self.bit]\n",
    "        plot_marked = skimage.io.imread(os.path.join(self.json['pathOut'], self.json['pathMarkedPlots'], \n",
    "                                                     self.path + self.json['suffs']['markedPlots']))\n",
    "        colors = self.json['colorsMarkedPlots'][1:2:1]\n",
    "        print colors\n",
    "        color_eps = 9\n",
    "        __pixels__ = 0\n",
    "        for x, y in np.ndindex(imgs['red'].shape):\n",
    "            red, nir = imgs['red'][x, y], imgs['nir'][x, y]\n",
    "            if not sizes['red'][0] <= red <= sizes['red'][1] or not sizes['nir'][0] <= nir <= sizes['nir'][1]:\n",
    "                for img in imgs.values():\n",
    "                    img[x, y] = self.get_white_pixel()\n",
    "                continue\n",
    "            for color in colors:\n",
    "                if scipy.spatial.distance.pdist([plot_marked[sizes['nir'][1] - nir, red - sizes['red'][0]][0:3:1],\n",
    "                                                 color], 'minkowski', 1)[0] < color_eps:\n",
    "                    __pixels__ += 1\n",
    "                    break\n",
    "            else:\n",
    "                for img in imgs.values():\n",
    "                    img[x, y] = self.get_white_pixel()\n",
    "        tmp_arr = ['red', 'nir']\n",
    "        for tmp in tmp_arr:\n",
    "            skimage.io.imsave(os.path.join(self.json['pathOut'], self.json['pathSolp'], \n",
    "                                           self.path + self.json['suffs']['in'][self.bit][tmp]), \n",
    "                              imgs[tmp], plugin = 'tifffile')\n",
    "        print __pixels__\n",
    "    \n",
    "    def get_soil_line(self):\n",
    "        imgs = self.read_images('solp')\n",
    "        plot_array = A.get_plot_array(imgs['red'], imgs['nir'])\n",
    "        red, nir = [], []\n",
    "        for x, y in np.ndindex(imgs['red'].shape):\n",
    "            red.append(imgs['red'][x, y])\n",
    "            nir.append(imgs['nir'][x, y])\n",
    "        red_matrix = np.vstack([red, np.ones(len(red))]).T\n",
    "        return np.linalg.lstsq(red_matrix, nir)[0]\n",
    "        \n",
    "        \n",
    "           \n",
    "        \n",
    "A = Scene(3)\n",
    "A.make_solp_scene()\n",
    "#A.get_soil_line()\n",
    "#imgs = A.read_images('in')\n",
    "#plot_array = A.get_plot_array(imgs['red'], imgs['nir'])\n",
    "#A.save_plot_array(plot_array)\n"
   ]
  },
  {
   "cell_type": "code",
   "execution_count": null,
   "metadata": {
    "collapsed": false
   },
   "outputs": [],
   "source": [
    "A.make_solp_scene()"
   ]
  },
  {
   "cell_type": "code",
   "execution_count": null,
   "metadata": {
    "collapsed": false
   },
   "outputs": [],
   "source": [
    "%pylab inline\n",
    "import matplotlib.pyplot as plt\n",
    "plt.imshow(plot_array[::-1, :])\n",
    "#plt.xlim([0, 255])\n",
    "#plt.ylim([255, 0])\n",
    "#plt.axis('off')\n",
    "#ax = plt.gca()\n",
    "#ax.xaxis.set_major_formatter(plt.NullFormatter())\n",
    "#ax.yaxis.set_major_formatter(plt.NullFormatter())\n",
    "c = plt.gcf()\n",
    "#plt.gcf().set_size_inches(1, 1)\n",
    "#c.subplots_adjust(bottom=0.,left=0.,right=1.,top=1.)\n",
    "\n",
    "\n",
    "#plt.autoscale(True, 'both')\n",
    "\n",
    "plt.axes().axes.get_yaxis().set_visible(False)\n",
    "plt.axes().axes.get_xaxis().set_visible(False)\n",
    "\n",
    "\n",
    "c = plt.gcf()\n",
    "c.set_size_inches(1., 1.)\n",
    "#c.set_dpi(256 / 2.00)\n",
    "\n",
    "plt.savefig('test2.png', dpi=256, bbox_inches = 'tight', pad_inches = 0)\n",
    "\n",
    "plt.show()"
   ]
  },
  {
   "cell_type": "code",
   "execution_count": null,
   "metadata": {
    "collapsed": false
   },
   "outputs": [],
   "source": [
    "import matplotlib\n",
    "matplotlib.image.imsave('name.png', plot_array[::-1, :])"
   ]
  },
  {
   "cell_type": "code",
   "execution_count": null,
   "metadata": {
    "collapsed": false
   },
   "outputs": [],
   "source": [
    "str = \"/media/fila/DATA/landsat/Landsats_done\"\n",
    "str1 = \"/media/fila/DATA/landsat/in\"\n",
    "with open('1.json') as data_file:    \n",
    "    data = json.load(data_file)\n",
    "for i in data['scenes']:\n",
    "    file1 = os.path.join(str, i['path'], i['path'] + i['suffNir'])\n",
    "    file2 = os.path.join(str, i['path'], i['path'] + i['suffRed'])\n",
    "    os.system(\"cp \" + file1 + \" \" + str1)\n",
    "    os.system(\"cp \" + file2 + \" \" + str1)"
   ]
  },
  {
   "cell_type": "code",
   "execution_count": null,
   "metadata": {
    "collapsed": false
   },
   "outputs": [],
   "source": [
    "img = skimage.io.imread('/media/fila/DATA/landsat/in/LC81780232014088LGN00_B4_C_F.tif')\n",
    "print img[[0,0]]"
   ]
  },
  {
   "cell_type": "code",
   "execution_count": null,
   "metadata": {
    "collapsed": true
   },
   "outputs": [],
   "source": []
  },
  {
   "cell_type": "code",
   "execution_count": null,
   "metadata": {
    "collapsed": false
   },
   "outputs": [],
   "source": [
    "for x, y in np.ndindex(img.shape[0:2:1]):\n",
    "    p = img[x, y]\n",
    "    if abs(p[0] - 100) <= 5 and abs(p[1] - 255) <= 5 and abs(p[2] - 100) <= 5:\n",
    "        print p"
   ]
  },
  {
   "cell_type": "code",
   "execution_count": null,
   "metadata": {
    "collapsed": false
   },
   "outputs": [],
   "source": [
    "img.shape[0:2:1]"
   ]
  },
  {
   "cell_type": "code",
   "execution_count": null,
   "metadata": {
    "collapsed": false
   },
   "outputs": [],
   "source": [
    "for i in range(5):\n",
    "    for j in range(5):\n",
    "        break\n",
    "    else:\n",
    "        print '111'"
   ]
  },
  {
   "cell_type": "code",
   "execution_count": null,
   "metadata": {
    "collapsed": false
   },
   "outputs": [],
   "source": [
    "a = {'red': 123, 'nir': 234}\n",
    "for aaa in a.values():\n",
    "    print aaa"
   ]
  },
  {
   "cell_type": "code",
   "execution_count": 6,
   "metadata": {
    "collapsed": false
   },
   "outputs": [
    {
     "name": "stdout",
     "output_type": "stream",
     "text": [
      "[2]\n"
     ]
    }
   ],
   "source": [
    "qqq = np.array([1,2])\n",
    "print qqq[1:2:1]"
   ]
  },
  {
   "cell_type": "code",
   "execution_count": null,
   "metadata": {
    "collapsed": true
   },
   "outputs": [],
   "source": []
  }
 ],
 "metadata": {
  "kernelspec": {
   "display_name": "Python 2",
   "language": "python",
   "name": "python2"
  },
  "language_info": {
   "codemirror_mode": {
    "name": "ipython",
    "version": 2
   },
   "file_extension": ".py",
   "mimetype": "text/x-python",
   "name": "python",
   "nbconvert_exporter": "python",
   "pygments_lexer": "ipython2",
   "version": "2.7.6"
  }
 },
 "nbformat": 4,
 "nbformat_minor": 0
}
